{
 "cells": [
  {
   "cell_type": "code",
   "execution_count": 2,
   "metadata": {},
   "outputs": [],
   "source": [
    "# Imports\n",
    "# splinter automates browser actions\n",
    "from splinter import Browser\n",
    "import time\n",
    "\n",
    "# beautiful soup is a parser\n",
    "from bs4 import BeautifulSoup as bs\n",
    "\n",
    "# webdriver manager downloads and deploys the latest webdriver binaries\n",
    "from webdriver_manager.chrome import ChromeDriverManager\n",
    "\n",
    "# pandas is a data structuring and manipulation package for python\n",
    "import pandas as pd\n"
   ]
  },
  {
   "cell_type": "code",
   "execution_count": 3,
   "metadata": {},
   "outputs": [
    {
     "name": "stderr",
     "output_type": "stream",
     "text": [
      "[WDM] - Current google-chrome version is 89.0.4389\n",
      "[WDM] - Get LATEST driver version for 89.0.4389\n",
      "[WDM] - Driver [/Users/thomaskeane/.wdm/drivers/chromedriver/mac64/89.0.4389.23/chromedriver] found in cache\n"
     ]
    },
    {
     "name": "stdout",
     "output_type": "stream",
     "text": [
      " \n"
     ]
    }
   ],
   "source": [
    "# Boilerplate to get up-to-date binaries for automating chrome\n",
    "# See week 12, day 3, Activities 09-Ins_Scrape_And_Render\n",
    "executable_path = {'executable_path': ChromeDriverManager().install()}\n",
    "browser = Browser('chrome', **executable_path, headless=False)\n"
   ]
  },
  {
   "cell_type": "markdown",
   "metadata": {},
   "source": [
    "<h2> NASA Mars News</h2>\n",
    "<p>Scrape the NASA Mars News Site and collect the latest News Title and Paragraph Text. Assign the text to variables that you can reference later. </p>"
   ]
  },
  {
   "cell_type": "code",
   "execution_count": 4,
   "metadata": {},
   "outputs": [],
   "source": [
    "# Week 12, day 3, Activities 09-Ins_Scrape_And_Render, 10-Stu_Scrape_Weather\n",
    "\n",
    "# Splinter to navigate\n",
    "url = \"https://mars.nasa.gov/news/\"\n",
    "browser.visit(url)\n",
    "time.sleep(1)\n"
   ]
  },
  {
   "cell_type": "code",
   "execution_count": 5,
   "metadata": {},
   "outputs": [],
   "source": [
    "# Beautiful Soup to parse\n",
    "\n",
    "# Grab the text\n",
    "html = browser.html\n",
    "\n",
    "# Create a bs4.BeautifulSoup Object\n",
    "soup = bs(html, \"html.parser\")\n",
    "\n",
    "# And parse the object...\n",
    "# Find the first 'slide' list element...\n",
    "first_slide = soup.find(\"li\", class_=\"slide\")\n",
    "\n",
    "# ...and then grab the text from the content-containing divs\n",
    "# news_title = 'content_title' and news_p = 'article_teaser_body'\n",
    "news_title = first_slide.find(\"div\", class_=\"content_title\").get_text()\n",
    "news_p = first_slide.find(\"div\", class_=\"article_teaser_body\").get_text()\n",
    "\n",
    "# you could also use the select_one command\n",
    "# https://stackoverflow.com/questions/38028384/beautifulsoup-difference-between-find-and-select\n"
   ]
  },
  {
   "cell_type": "markdown",
   "metadata": {},
   "source": [
    "<h2>JPL Mars Space Images - Featured Image</h2>\n",
    "<ol> \n",
    "    <li>Visit the url for JPL Featured Space Image</li>\n",
    "    <li>Use splinter to navigate the site and find the image url for the current Featured Mars Image and assign the url string to a variable called featured_image_url.</li>\n",
    "    <li>Make sure to find the image url to the full size .jpg image.</li>\n",
    "    <li>Make sure to save a complete url string for this image.</li>\n",
    "</ol>"
   ]
  },
  {
   "cell_type": "code",
   "execution_count": 6,
   "metadata": {},
   "outputs": [],
   "source": [
    "# Visit the url for JPL Featured Space Image\n",
    "url = \"https://www.jpl.nasa.gov/spaceimages/?search=&category=Mars\"\n",
    "browser.visit(url)\n",
    "time.sleep(3)\n"
   ]
  },
  {
   "cell_type": "code",
   "execution_count": 7,
   "metadata": {},
   "outputs": [],
   "source": [
    "# Click on the first image using find_by_css\n",
    "image_link = browser.find_by_css('img[class=\"BaseImage  object-contain\"]')\n",
    "image_link.click()\n",
    "time.sleep(3)\n"
   ]
  },
  {
   "cell_type": "code",
   "execution_count": 8,
   "metadata": {},
   "outputs": [],
   "source": [
    "# Enlarge the image using find_by_css\n",
    "image_link = browser.find_by_css('svg[class=\"IconExpand\"]')\n",
    "image_link.click()\n",
    "time.sleep(3)\n"
   ]
  },
  {
   "cell_type": "code",
   "execution_count": 9,
   "metadata": {},
   "outputs": [],
   "source": [
    "# Grab the link to the image\n",
    "html = browser.html\n",
    "soup = bs(html, 'html.parser')\n",
    "image = soup.find('div', class_='BaseLightbox__slide__img')\n",
    "featured_image_url = image.img['src']\n"
   ]
  },
  {
   "cell_type": "markdown",
   "metadata": {},
   "source": [
    "<h2>Mars Facts</h2>\n",
    "<ol>\n",
    "    <li>Visit the Mars Facts webpage here and use Pandas to scrape the table containing facts about the planet including Diameter, Mass, etc.</li>\n",
    "    <li>Use Pandas to convert the data to a HTML table string.</li>\n",
    "</ol>"
   ]
  },
  {
   "cell_type": "code",
   "execution_count": 10,
   "metadata": {},
   "outputs": [
    {
     "data": {
      "text/plain": [
       "'<table border=\"1\" class=\"dataframe\">\\n  <thead>\\n    <tr style=\"text-align: right;\">\\n      <th></th>\\n      <th>Data</th>\\n    </tr>\\n    <tr>\\n      <th>Feature</th>\\n      <th></th>\\n    </tr>\\n  </thead>\\n  <tbody>\\n    <tr>\\n      <th>Equatorial Diameter:</th>\\n      <td>6,792 km</td>\\n    </tr>\\n    <tr>\\n      <th>Polar Diameter:</th>\\n      <td>6,752 km</td>\\n    </tr>\\n    <tr>\\n      <th>Mass:</th>\\n      <td>6.39 × 10^23 kg (0.11 Earths)</td>\\n    </tr>\\n    <tr>\\n      <th>Moons:</th>\\n      <td>2 (Phobos &amp; Deimos)</td>\\n    </tr>\\n    <tr>\\n      <th>Orbit Distance:</th>\\n      <td>227,943,824 km (1.38 AU)</td>\\n    </tr>\\n    <tr>\\n      <th>Orbit Period:</th>\\n      <td>687 days (1.9 years)</td>\\n    </tr>\\n    <tr>\\n      <th>Surface Temperature:</th>\\n      <td>-87 to -5 °C</td>\\n    </tr>\\n    <tr>\\n      <th>First Record:</th>\\n      <td>2nd millennium BC</td>\\n    </tr>\\n    <tr>\\n      <th>Recorded By:</th>\\n      <td>Egyptian astronomers</td>\\n    </tr>\\n  </tbody>\\n</table>'"
      ]
     },
     "execution_count": 10,
     "metadata": {},
     "output_type": "execute_result"
    }
   ],
   "source": [
    "# Pandas can scrape table data from webpages; simpler than splinter and bs when it\n",
    "# can be used.\n",
    "# 12-Web-Scraping-and-Document-Databases/2/Activities/08-Ins_Pandas_Scraping\n",
    "\n",
    "url =\"https://space-facts.com/mars/\"\n",
    "tables = pd.read_html(url)\n",
    "mars_facts = tables[0]\n",
    "mars_facts.columns=['Feature', 'Data']\n",
    "mars_facts.set_index('Feature', inplace=True)\n",
    "mars_facts.to_html()"
   ]
  },
  {
   "cell_type": "markdown",
   "metadata": {},
   "source": [
    "<h2>Mars Hemispheres</h2>\n",
    "<ol>\n",
    " <li>Visit the USGS Astrogeology site here to obtain high resolution images for each of Mar's hemispheres.</li>\n",
    "\n",
    "\n",
    "<li>You will need to click each of the links to the hemispheres in order to find the image url to the full resolution image.</li>\n",
    "\n",
    "\n",
    "<li>Save both the image url string for the full resolution hemisphere image, and the Hemisphere title containing the hemisphere name. Use a Python dictionary to store the data using the keys img_url and title.</li>\n",
    "\n",
    "\n",
    "<li>Append the dictionary with the image url string and the hemisphere title to a list. This list will contain one dictionary for each hemisphere.</li>\n",
    "    \n",
    "</ol>"
   ]
  },
  {
   "cell_type": "code",
   "execution_count": 11,
   "metadata": {},
   "outputs": [],
   "source": [
    "# Vist the URL\n",
    "url =\"https://astrogeology.usgs.gov/search/results?q=hemisphere+enhanced&k1=target&v1=Mars\"\n",
    "browser.visit(url)\n",
    "\n"
   ]
  },
  {
   "cell_type": "code",
   "execution_count": 12,
   "metadata": {},
   "outputs": [],
   "source": [
    "# Initialize the url list\n",
    "hemisphere_image_urls = []\n",
    "\n",
    "# Count the links\n",
    "links = browser.find_by_css(\"a.product-item h3\")\n"
   ]
  },
  {
   "cell_type": "code",
   "execution_count": 13,
   "metadata": {},
   "outputs": [],
   "source": [
    "# Loop through the links to get the images\n",
    "\n",
    "for i in range(len(links)):\n",
    "    \n",
    "    #Dictionary for each hemisphere\n",
    "    hemisphere = {}\n",
    "    \n",
    "    # Click on the hemisphere link\n",
    "    browser.find_by_css(\"a.product-item h3\")[i].click()\n",
    "    \n",
    "    # Click on the sample image link and collect the link to the big image\n",
    "    sample = browser.links.find_by_text('Sample').first\n",
    "    hemisphere['img_url'] = sample['href']\n",
    "    \n",
    "    # Get the title of the image\n",
    "    hemisphere['title'] = browser.find_by_css(\"h2.title\").text\n",
    "    \n",
    "    # Append the new dictionary to the list of dictionaries\n",
    "    hemisphere_image_urls.append(hemisphere)\n",
    "    \n",
    "    # Repeat\n",
    "    browser.back()"
   ]
  },
  {
   "cell_type": "code",
   "execution_count": 14,
   "metadata": {},
   "outputs": [
    {
     "data": {
      "text/plain": [
       "[{'img_url': 'https://astropedia.astrogeology.usgs.gov/download/Mars/Viking/cerberus_enhanced.tif/full.jpg',\n",
       "  'title': 'Cerberus Hemisphere Enhanced'},\n",
       " {'img_url': 'https://astropedia.astrogeology.usgs.gov/download/Mars/Viking/schiaparelli_enhanced.tif/full.jpg',\n",
       "  'title': 'Schiaparelli Hemisphere Enhanced'},\n",
       " {'img_url': 'https://astropedia.astrogeology.usgs.gov/download/Mars/Viking/syrtis_major_enhanced.tif/full.jpg',\n",
       "  'title': 'Syrtis Major Hemisphere Enhanced'},\n",
       " {'img_url': 'https://astropedia.astrogeology.usgs.gov/download/Mars/Viking/valles_marineris_enhanced.tif/full.jpg',\n",
       "  'title': 'Valles Marineris Hemisphere Enhanced'}]"
      ]
     },
     "execution_count": 14,
     "metadata": {},
     "output_type": "execute_result"
    }
   ],
   "source": [
    "hemisphere_image_urls"
   ]
  },
  {
   "cell_type": "code",
   "execution_count": 15,
   "metadata": {},
   "outputs": [],
   "source": [
    "browser.quit()"
   ]
  },
  {
   "cell_type": "code",
   "execution_count": null,
   "metadata": {},
   "outputs": [],
   "source": []
  }
 ],
 "metadata": {
  "kernelspec": {
   "display_name": "Python 3",
   "language": "python",
   "name": "python3"
  },
  "language_info": {
   "codemirror_mode": {
    "name": "ipython",
    "version": 3
   },
   "file_extension": ".py",
   "mimetype": "text/x-python",
   "name": "python",
   "nbconvert_exporter": "python",
   "pygments_lexer": "ipython3",
   "version": "3.8.3"
  }
 },
 "nbformat": 4,
 "nbformat_minor": 4
}
